{
 "cells": [
  {
   "cell_type": "code",
   "execution_count": 1,
   "metadata": {},
   "outputs": [],
   "source": [
    "json_path = \"/Users/svanka/Codes/Cambridge_Scraper/5_data.json\"\n",
    "#json_path = \"/Users/svanka/Codes/Cambridge_Scraper/6(rock_metal)_data.json\""
   ]
  },
  {
   "cell_type": "code",
   "execution_count": 8,
   "metadata": {},
   "outputs": [
    {
     "name": "stdout",
     "output_type": "stream",
     "text": [
      "Collecting matplotlib\n",
      "  Downloading matplotlib-3.8.3-cp312-cp312-macosx_11_0_arm64.whl.metadata (5.8 kB)\n",
      "Collecting contourpy>=1.0.1 (from matplotlib)\n",
      "  Downloading contourpy-1.2.0-cp312-cp312-macosx_11_0_arm64.whl.metadata (5.8 kB)\n",
      "Collecting cycler>=0.10 (from matplotlib)\n",
      "  Using cached cycler-0.12.1-py3-none-any.whl.metadata (3.8 kB)\n",
      "Collecting fonttools>=4.22.0 (from matplotlib)\n",
      "  Downloading fonttools-4.50.0-cp312-cp312-macosx_10_9_universal2.whl.metadata (159 kB)\n",
      "\u001b[2K     \u001b[90m━━━━━━━━━━━━━━━━━━━━━━━━━━━━━━━━━━━━━━━\u001b[0m \u001b[32m159.4/159.4 kB\u001b[0m \u001b[31m4.4 MB/s\u001b[0m eta \u001b[36m0:00:00\u001b[0m\n",
      "\u001b[?25hCollecting kiwisolver>=1.3.1 (from matplotlib)\n",
      "  Downloading kiwisolver-1.4.5-cp312-cp312-macosx_11_0_arm64.whl.metadata (6.4 kB)\n",
      "Collecting numpy<2,>=1.21 (from matplotlib)\n",
      "  Using cached numpy-1.26.4-cp312-cp312-macosx_11_0_arm64.whl.metadata (61 kB)\n",
      "Requirement already satisfied: packaging>=20.0 in /Users/svanka/miniforge3/envs/scraper/lib/python3.12/site-packages (from matplotlib) (24.0)\n",
      "Collecting pillow>=8 (from matplotlib)\n",
      "  Downloading pillow-10.2.0-cp312-cp312-macosx_11_0_arm64.whl.metadata (9.7 kB)\n",
      "Collecting pyparsing>=2.3.1 (from matplotlib)\n",
      "  Downloading pyparsing-3.1.2-py3-none-any.whl.metadata (5.1 kB)\n",
      "Requirement already satisfied: python-dateutil>=2.7 in /Users/svanka/miniforge3/envs/scraper/lib/python3.12/site-packages (from matplotlib) (2.9.0)\n",
      "Requirement already satisfied: six>=1.5 in /Users/svanka/miniforge3/envs/scraper/lib/python3.12/site-packages (from python-dateutil>=2.7->matplotlib) (1.16.0)\n",
      "Downloading matplotlib-3.8.3-cp312-cp312-macosx_11_0_arm64.whl (7.5 MB)\n",
      "\u001b[2K   \u001b[90m━━━━━━━━━━━━━━━━━━━━━━━━━━━━━━━━━━━━━━━━\u001b[0m \u001b[32m7.5/7.5 MB\u001b[0m \u001b[31m8.5 MB/s\u001b[0m eta \u001b[36m0:00:00\u001b[0m00:01\u001b[0m00:01\u001b[0mm\n",
      "\u001b[?25hDownloading contourpy-1.2.0-cp312-cp312-macosx_11_0_arm64.whl (242 kB)\n",
      "\u001b[2K   \u001b[90m━━━━━━━━━━━━━━━━━━━━━━━━━━━━━━━━━━━━━━━━\u001b[0m \u001b[32m242.6/242.6 kB\u001b[0m \u001b[31m4.7 MB/s\u001b[0m eta \u001b[36m0:00:00\u001b[0ma \u001b[36m0:00:01\u001b[0m\n",
      "\u001b[?25hUsing cached cycler-0.12.1-py3-none-any.whl (8.3 kB)\n",
      "Downloading fonttools-4.50.0-cp312-cp312-macosx_10_9_universal2.whl (2.8 MB)\n",
      "\u001b[2K   \u001b[90m━━━━━━━━━━━━━━━━━━━━━━━━━━━━━━━━━━━━━━━━\u001b[0m \u001b[32m2.8/2.8 MB\u001b[0m \u001b[31m8.2 MB/s\u001b[0m eta \u001b[36m0:00:00\u001b[0ma \u001b[36m0:00:01\u001b[0m\n",
      "\u001b[?25hDownloading kiwisolver-1.4.5-cp312-cp312-macosx_11_0_arm64.whl (64 kB)\n",
      "\u001b[2K   \u001b[90m━━━━━━━━━━━━━━━━━━━━━━━━━━━━━━━━━━━━━━━━\u001b[0m \u001b[32m65.0/65.0 kB\u001b[0m \u001b[31m3.8 MB/s\u001b[0m eta \u001b[36m0:00:00\u001b[0m\n",
      "\u001b[?25hUsing cached numpy-1.26.4-cp312-cp312-macosx_11_0_arm64.whl (13.7 MB)\n",
      "Downloading pillow-10.2.0-cp312-cp312-macosx_11_0_arm64.whl (3.3 MB)\n",
      "\u001b[2K   \u001b[90m━━━━━━━━━━━━━━━━━━━━━━━━━━━━━━━━━━━━━━━━\u001b[0m \u001b[32m3.3/3.3 MB\u001b[0m \u001b[31m8.3 MB/s\u001b[0m eta \u001b[36m0:00:00\u001b[0ma \u001b[36m0:00:01\u001b[0m\n",
      "\u001b[?25hDownloading pyparsing-3.1.2-py3-none-any.whl (103 kB)\n",
      "\u001b[2K   \u001b[90m━━━━━━━━━━━━━━━━━━━━━━━━━━━━━━━━━━━━━━━━\u001b[0m \u001b[32m103.2/103.2 kB\u001b[0m \u001b[31m4.9 MB/s\u001b[0m eta \u001b[36m0:00:00\u001b[0m\n",
      "\u001b[?25hInstalling collected packages: pyparsing, pillow, numpy, kiwisolver, fonttools, cycler, contourpy, matplotlib\n",
      "Successfully installed contourpy-1.2.0 cycler-0.12.1 fonttools-4.50.0 kiwisolver-1.4.5 matplotlib-3.8.3 numpy-1.26.4 pillow-10.2.0 pyparsing-3.1.2\n"
     ]
    }
   ],
   "source": [
    "!pip install matplotlib"
   ]
  },
  {
   "cell_type": "code",
   "execution_count": 10,
   "metadata": {},
   "outputs": [],
   "source": [
    "import matplotlib.pyplot as plt\n",
    "import numpy as np\n",
    "import matplotlib.pyplot as plt\n",
    "import matplotlib.ticker as ticker\n",
    "import json\n",
    "from collections import Counter\n",
    "\n"
   ]
  },
  {
   "cell_type": "code",
   "execution_count": 12,
   "metadata": {},
   "outputs": [
    {
     "name": "stdout",
     "output_type": "stream",
     "text": [
      "Number of songs:  147\n"
     ]
    }
   ],
   "source": [
    "#load the json file \n",
    "\n",
    "with open(json_path) as json_file:\n",
    "    data = json.load(json_file)\n",
    "\n",
    "print(\"Number of songs: \", len(data))"
   ]
  },
  {
   "cell_type": "code",
   "execution_count": 15,
   "metadata": {},
   "outputs": [
    {
     "name": "stdout",
     "output_type": "stream",
     "text": [
      "147\n",
      "Counter({'How To Kill A Conversation': 5, 'Woodfire': 5, 'Banned From The Zoo': 4, 'The Butterfly Effect': 3, 'Dunning Kruger': 3, 'Eager Sails': 3, 'Fergessen': 3, 'Hazael': 3, 'Secretariat': 3, 'Wesley Morgan': 3, 'Andres Guazzelli': 2, 'Blues Bastards': 2, 'Catfolkin': 2, 'Chris Coltraine': 2, 'Diesel13': 2, 'Jackie Greene': 2, 'Kung Fu': 2, 'Lingua Funqa': 2, 'Nerve 9': 2, 'Peter White': 2, 'Ripe': 2, 'ShortWave RadioBand': 2, 'Skyeez & The Whiteflies': 2, 'thelvnguage': 2, 'Tommy Marcinek': 2, 'Traffic Experiment': 2, 'The Travelling Band': 2, 'Turkuaz': 2, 'Wess Meets West': 2, 'Whitten And. Williams': 2, 'W.I.N.D.': 2, 'Alan Evans Trio': 1, 'Alan Mansfield & John Pritchard': 1, 'Arise': 1, 'Avalon': 1, 'Big Head Todd & The Monsters': 1, 'Big Mean Sound Machine': 1, 'Big Stone Culture': 1, 'Black Bloc': 1, 'BMorgan&FRIENDS': 1, 'Bobby Nobody': 1, 'Boogiesnakes': 1, 'Bosnian Rainbows': 1, 'Bronze Radio Return': 1, 'Buitraker': 1, 'CEF Mallorca GSII 2017-18 Sessions': 1, 'Chad Hollister Band': 1, 'Cotton Drifting': 1, 'Detsky Sad': 1, 'Dopapod': 1, 'The Doppler Shift': 1, 'Enter The Haggis': 1, 'Escarràs': 1, \"Evening Darling -- 'Passenger Side'\": 1, 'The Ferryboat Men': 1, 'Flags': 1, 'Fruition': 1, 'Funky Dawgs Brass Band': 1, 'Ghost Note': 1, 'The Great Enough': 1, 'Hollowstate': 1, 'Hurray For The Riff Raff': 1, 'Ikebe Shakedown': 1, 'Jakub Byzia': 1, 'Jamie Kent': 1, 'James Timms x Benjamin Cooseman': 1, 'Jokers, Jacks & Kings': 1, 'Leftover Salmon': 1, 'Mady & Seus Namorados': 1, 'Malenky Slovos': 1, 'Man About A Dog': 1, 'Marcus Boeltz': 1, 'Motor Tapes': 1, 'The Mountaineering Club': 1, 'The MudPuddles': 1, 'Neon Hornet': 1, 'One Time Weekend': 1, 'Our Good Wolf': 1, 'The Penniless Wild': 1, 'Perdidos Na Zone Sul': 1, 'Phre The Eon': 1, 'Plywood Cowboy': 1, 'Primakova': 1, 'Purple Hat Mob': 1, 'Qupe': 1, 'Redwood': 1, 'Salon 8': 1, 'Six Fox Whiskey': 1, 'Spike Mullings': 1, 'Swinging Steaks': 1, 'The Sunshine Garcia Band': 1, 'Szlachetka': 1, \"Terry Anderson's OAK Team\": 1, 'The Timezone': 1, 'Trafficker': 1, \"Umphrey's McGee\": 1, 'The Western Den': 1, 'Wide Waters': 1, 'Will Evans': 1, 'Xarxa': 1, 'Zeno': 1})\n",
      "Counter({1: 70, 2: 21, 3: 7, 5: 2, 4: 1})\n"
     ]
    },
    {
     "data": {
      "image/png": "[encoded data removed]",
      "text/plain": [
       "<Figure size 640x480 with 1 Axes>"
      ]
     },
     "metadata": {},
     "output_type": "display_data"
    },
    {
     "name": "stdout",
     "output_type": "stream",
     "text": [
      "Number of unique artists:  101\n"
     ]
    }
   ],
   "source": [
    "#unique artists count\n",
    "artists_count = []\n",
    "for key, value in data.items():\n",
    "    #Alan Evans Trio: 'I'm Coming Home extract before :\n",
    "    artist = key.split(\":\")[0]\n",
    "    artists_count.append(artist)\n",
    "print(len(artists_count))\n",
    "#find the distribution of artists\n",
    "\n",
    "artist_count = Counter(artists_count)\n",
    "print(artist_count)\n",
    "#sort the dictionary\n",
    "artist_count = dict(sorted(artist_count.items(), key=lambda item: item[1], reverse=True))\n",
    "#xount the number of artists against number of songs example 10 artists have 1 song\n",
    "artist_count = Counter(artist_count.values())\n",
    "print(artist_count)\n",
    "\n",
    "#plot the distribution\n",
    "fig, ax = plt.subplots()\n",
    "ax.bar(artist_count.keys(), artist_count.values())\n",
    "ax.set_xlabel('Number of songs')\n",
    "ax.set_ylabel('Number of artists')\n",
    "ax.set_title('Distribution of artists')\n",
    "ax.xaxis.set_major_locator(ticker.MultipleLocator(1))\n",
    "plt.show()\n",
    "\n",
    "unique_artists = set(artists_count)\n",
    "print(\"Number of unique artists: \", len(unique_artists))\n"
   ]
  },
  {
   "cell_type": "code",
   "execution_count": null,
   "metadata": {},
   "outputs": [],
   "source": []
  }
 ],
 "metadata": {
  "kernelspec": {
   "display_name": "scraper",
   "language": "python",
   "name": "python3"
  },
  "language_info": {
   "codemirror_mode": {
    "name": "ipython",
    "version": 3
   },
   "file_extension": ".py",
   "mimetype": "text/x-python",
   "name": "python",
   "nbconvert_exporter": "python",
   "pygments_lexer": "ipython3",
   "version": "3.12.2"
  }
 },
 "nbformat": 4,
 "nbformat_minor": 2
}
