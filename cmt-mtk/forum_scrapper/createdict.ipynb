{
 "cells": [
  {
   "cell_type": "code",
   "execution_count": 1,
   "metadata": {},
   "outputs": [],
   "source": [
    "import os\n",
    "import glob\n"
   ]
  },
  {
   "cell_type": "code",
   "execution_count": 20,
   "metadata": {},
   "outputs": [
    {
     "name": "stdout",
     "output_type": "stream",
     "text": [
      "545\n",
      "/data4/soumya/Mixing_Secrets_Full/Wahnmal/full_multitrack/ has no files\n",
      "/data4/soumya/Mixing_Secrets_Full/Guerra Alla Frontiera/full_multitrack/ has no files\n",
      "/data4/soumya/Mixing_Secrets_Full/'Crying Rivers'/full_multitrack/ has no files\n",
      "/data4/soumya/Mixing_Secrets_Full/'Make Like A Tree'/full_multitrack/ has no files\n",
      "/data4/soumya/Mixing_Secrets_Full/1125/full_multitrack/ has no files\n",
      "/data4/soumya/Mixing_Secrets_Full/'The One'/full_multitrack/ has no files\n",
      "/data4/soumya/Mixing_Secrets_Full/'Iron Sheik'/full_multitrack/ has no files\n",
      "/data4/soumya/Mixing_Secrets_Full/'Freedom (Lay Down My Life For You)'/full_multitrack/ has no files\n",
      "/data4/soumya/Mixing_Secrets_Full/'Collide'/full_multitrack/ has no files\n",
      "/data4/soumya/Mixing_Secrets_Full/'Daddy G'/full_multitrack/ has no files\n",
      "/data4/soumya/MSF_forum/dataset/Discussion Zone - Alt Rock, Blues, Country Rock, Indie, Funk, Reggae/Ripe: 'Little Lighter' has no mp3 files\n",
      "/data4/soumya/MSF_forum/dataset/Discussion Zone - Alt Rock, Blues, Country Rock, Indie, Funk, Reggae/Redwood: 'Smoker And The Stoner' has no mp3 files\n",
      "/data4/soumya/Mixing_Secrets_Full/'Rise Up Singing'/full_multitrack/ has no files\n",
      "/data4/soumya/Mixing_Secrets_Full/'All-American Mutt'/full_multitrack/ has no files\n",
      "/data4/soumya/Mixing_Secrets_Full/'Divers & Lazarus'/full_multitrack/ has no files\n",
      "/data4/soumya/Mixing_Secrets_Full/'Expired'/full_multitrack/ has no files\n",
      "/data4/soumya/MSF_forum/dataset/Discussion Zone - Alt Rock, Blues, Country Rock, Indie, Funk, Reggae/Rebecca Haviland & Whiskey Heart: '57 Chevy' has no mp3 files\n",
      "/data4/soumya/Mixing_Secrets_Full/'Hurricane'/full_multitrack/ has no files\n",
      "/data4/soumya/MSF_forum/dataset/Discussion Zone - Alt Rock, Blues, Country Rock, Indie, Funk, Reggae/Ripe: '4 Out Of 10' has no mp3 files\n",
      "/data4/soumya/Mixing_Secrets_Full/'Soda Envy'/full_multitrack/ has no files\n",
      "/data4/soumya/MSF_forum/dataset/Discussion Zone - Alt Rock, Blues, Country Rock, Indie, Funk, Reggae/Evening Darling -- 'Passenger Side'\n",
      "/data4/soumya/Mixing_Secrets_Full/'The Weight'/full_multitrack/ has no files\n",
      "/data4/soumya/Mixing_Secrets_Full/'Virus En Mi'/full_multitrack/ has no files\n",
      "/data4/soumya/Mixing_Secrets_Full/'Foundation'/full_multitrack/ has no files\n",
      "/data4/soumya/MSF_forum/dataset/Discussion Zone - Hip-hop, R&B, Soul/West End Blend 'Must Be Voodoo'\n",
      "/data4/soumya/Mixing_Secrets_Full/'Widow'/full_multitrack/ has no files\n",
      "/data4/soumya/Mixing_Secrets_Full/Back Down/full_multitrack/ has no files\n",
      "/data4/soumya/Mixing_Secrets_Full/'Mystery'/full_multitrack/ has no files\n",
      "/data4/soumya/Mixing_Secrets_Full/'Light It Up (Remix)'/full_multitrack/ has no files\n",
      "/data4/soumya/Mixing_Secrets_Full/x/full_multitrack/ has no files\n",
      "/data4/soumya/Mixing_Secrets_Full/'Chardonnay' (Lektrix Remix)/full_multitrack/ has no files\n",
      "/data4/soumya/Mixing_Secrets_Full/'The Calling'/full_multitrack/ has no files\n",
      "/data4/soumya/Mixing_Secrets_Full/'Chardonnay' (Mystik Vibe Remix)/full_multitrack/ has no files\n",
      "/data4/soumya/Mixing_Secrets_Full/'Sirenz'/full_multitrack/ has no files\n",
      "/data4/soumya/Mixing_Secrets_Full/'Chardonnay' (Ornery Remix)/full_multitrack/ has no files\n",
      "/data4/soumya/Mixing_Secrets_Full/'Dream State' (feat Flora Lin)/full_multitrack/ has no files\n",
      "/data4/soumya/Mixing_Secrets_Full/'Big Dummy Shake/full_multitrack/ has no files\n",
      "/data4/soumya/Mixing_Secrets_Full/'Howlin'/full_multitrack/ has no files\n",
      "/data4/soumya/Mixing_Secrets_Full/Through My Eyes'/full_multitrack/ has no files\n",
      "/data4/soumya/Mixing_Secrets_Full/'Never Say Goodbye'/full_multitrack/ has no files\n",
      "/data4/soumya/Mixing_Secrets_Full/'Mouche'/full_multitrack/ has no files\n",
      "/data4/soumya/Mixing_Secrets_Full/'Amen'/full_multitrack/ has no files\n",
      "/data4/soumya/Mixing_Secrets_Full/'You And Me And The Radio'/full_multitrack/ has no files\n",
      "/data4/soumya/Mixing_Secrets_Full/'Old Empty Nest'/full_multitrack/ has no files\n",
      "/data4/soumya/Mixing_Secrets_Full/'Pure Luxury'/full_multitrack/ has no files\n",
      "/data4/soumya/Mixing_Secrets_Full/'Encanto Tropical'/full_multitrack/ has no files\n",
      "/data4/soumya/Mixing_Secrets_Full/'Drag Me Down'/full_multitrack/ has no files\n",
      "/data4/soumya/Mixing_Secrets_Full/'Dead Men's Ride'/full_multitrack/ has no files\n",
      "/data4/soumya/Mixing_Secrets_Full/C U Next Time'/full_multitrack/ has no files\n",
      "/data4/soumya/Mixing_Secrets_Full/'Koishii' (feat N.I.A.)/full_multitrack/ has no files\n",
      "/data4/soumya/Mixing_Secrets_Full/'Prodigal Son'/full_multitrack/ has no files\n",
      "/data4/soumya/Mixing_Secrets_Full/'Glorious'/full_multitrack/ has no files\n",
      "/data4/soumya/Mixing_Secrets_Full/'Motherload'/full_multitrack/ has no files\n",
      "/data4/soumya/Mixing_Secrets_Full/Massenet's 'Va! Laisse Couler Mes Larmes'/full_multitrack/ has no files\n",
      "/data4/soumya/Mixing_Secrets_Full/'Make You Dance'/full_multitrack/ has no files\n",
      "/data4/soumya/MSF_forum/dataset/Discussion Zone - Acoustic, Jazz, Country, Orchestral/FriendZWorldMusic: 'Triba has no mp3 files\n",
      "/data4/soumya/Mixing_Secrets_Full/W.A.Mozart's 'Voi Che Sapete'/full_multitrack/ has no files\n",
      "/data4/soumya/Mixing_Secrets_Full/'Heartache Reborn'/full_multitrack/ has no files\n",
      "/data4/soumya/MSF_forum/dataset/Discussion Zone - Acoustic, Jazz, Country, Orchestral/People Like Us: 'Paddy Fahy’s Jig has no mp3 files\n",
      "/data4/soumya/Mixing_Secrets_Full/Telemann's 'La Lyra' Overture/full_multitrack/ has no files\n",
      "/data4/soumya/Mixing_Secrets_Full/Go Go Go/full_multitrack/ has no files\n",
      "/data4/soumya/Mixing_Secrets_Full/'Immaculate'/full_multitrack/ has no files\n",
      "/data4/soumya/Mixing_Secrets_Full/Java Jive Sessions Song 2/full_multitrack/ has no files\n",
      "/data4/soumya/Mixing_Secrets_Full/Brahms's 'Hungarian Dance No. 5'/full_multitrack/ has no files\n",
      "/data4/soumya/Mixing_Secrets_Full/'Changing Things'/full_multitrack/ has no files\n",
      "/data4/soumya/Mixing_Secrets_Full/'Dust, You & Me'/full_multitrack/ has no files\n",
      "/data4/soumya/Mixing_Secrets_Full/Java Jive Sessions Song 1/full_multitrack/ has no files\n",
      "/data4/soumya/Mixing_Secrets_Full/'Holiday'/full_multitrack/ has no files\n",
      "/data4/soumya/Mixing_Secrets_Full/Pachelbel's 'Canon'/full_multitrack/ has no files\n",
      "/data4/soumya/Mixing_Secrets_Full/'The Things We Do For Love'/full_multitrack/ has no files\n",
      "/data4/soumya/Mixing_Secrets_Full/J.S.Bach's 'Jesu bleibet meine Freude'/full_multitrack/ has no files\n",
      "/data4/soumya/Mixing_Secrets_Full/G.F.Handel's 'Non Lo Diro Col Labbro'/full_multitrack/ has no files\n",
      "/data4/soumya/Mixing_Secrets_Full/W.A. Mozart's Piano Concerto No. 12 K414 (Allegro)/full_multitrack/ has no files\n",
      "/data4/soumya/Mixing_Secrets_Full/Bill Ashton's 'Much Too Much'/full_multitrack/ has no files\n",
      "/data4/soumya/Mixing_Secrets_Full/Java Jive Sessions Song 3/full_multitrack/ has no files\n",
      "28369\n",
      "470\n"
     ]
    }
   ],
   "source": [
    "mixes_path =  \"/data4/soumya/MSF_forum/dataset\"\n",
    "multitracks_path = \"/data4/soumya/Mixing_Secrets_Full\"\n",
    "dataset = {}\n",
    "mixes = glob.glob(os.path.join(mixes_path, \"*/*\"))\n",
    "print(len(mixes))\n",
    "unique_multitrack = 0\n",
    "for mix in mixes:\n",
    "    mix_path = glob.glob(os.path.join(mix, \"*.mp3\"))\n",
    "    if len(mix_path) == 0:\n",
    "        print(f\"{mix} has no mp3 files\")\n",
    "        continue\n",
    "    try:\n",
    "        songname = os.path.basename(mix).split(\":\")[1][1:]\n",
    "        multitracks = os.path.join(multitracks_path, songname,\"full_multitrack/\")\n",
    "        # print(len(glob.glob(os.path.join(multitracks, \"*\"))))\n",
    "        if len(glob.glob(os.path.join(multitracks, \"*\"))) == 0:\n",
    "            print(f\"{multitracks} has no files\")\n",
    "            multitracks = \"NONE\"\n",
    "            continue\n",
    "        for path in mix_path:\n",
    "            dataset[path] = multitracks\n",
    "        unique_multitrack = unique_multitrack + 1\n",
    "    except:\n",
    "        print(mix)\n",
    "        continue\n",
    "print(len(dataset))\n",
    "print(unique_multitrack)\n",
    "\n",
    "    \n",
    "\n",
    "\n",
    "    "
   ]
  },
  {
   "cell_type": "code",
   "execution_count": 21,
   "metadata": {},
   "outputs": [
    {
     "name": "stdout",
     "output_type": "stream",
     "text": [
      "Done writing to dataset.csv\n"
     ]
    }
   ],
   "source": [
    "# write to csv file\n",
    "# name the column as mix_path, multitrack_path\n",
    "import csv\n",
    "with open(\"dataset.csv\", \"w\") as f:\n",
    "    writer = csv.writer(f)\n",
    "    writer.writerow([\"mix_path\", \"multitrack_path\"])\n",
    "    for key, value in dataset.items():\n",
    "        writer.writerow([key, value])\n",
    "print(\"Done writing to dataset.csv\")"
   ]
  },
  {
   "cell_type": "code",
   "execution_count": 19,
   "metadata": {},
   "outputs": [
    {
     "name": "stdout",
     "output_type": "stream",
     "text": [
      "                                                mix_path multitrack_path\n",
      "2350   /data4/soumya/MSF_forum/dataset/Discussion Zon...            NONE\n",
      "4152   /data4/soumya/MSF_forum/dataset/Discussion Zon...            NONE\n",
      "4153   /data4/soumya/MSF_forum/dataset/Discussion Zon...            NONE\n",
      "4154   /data4/soumya/MSF_forum/dataset/Discussion Zon...            NONE\n",
      "4155   /data4/soumya/MSF_forum/dataset/Discussion Zon...            NONE\n",
      "...                                                  ...             ...\n",
      "31126  /data4/soumya/MSF_forum/dataset/Discussion Zon...            NONE\n",
      "31127  /data4/soumya/MSF_forum/dataset/Discussion Zon...            NONE\n",
      "31128  /data4/soumya/MSF_forum/dataset/Discussion Zon...            NONE\n",
      "31129  /data4/soumya/MSF_forum/dataset/Discussion Zon...            NONE\n",
      "31130  /data4/soumya/MSF_forum/dataset/Discussion Zon...            NONE\n",
      "\n",
      "[2882 rows x 2 columns]\n"
     ]
    }
   ],
   "source": [
    "# load the csv file\n",
    "import pandas as pd\n",
    "df = pd.read_csv(\"dataset.csv\")\n",
    "# print rows with NONE in multitrack_path\n",
    "print(df[df[\"multitrack_path\"] == \"NONE\"])"
   ]
  },
  {
   "cell_type": "code",
   "execution_count": null,
   "metadata": {},
   "outputs": [],
   "source": []
  },
  {
   "cell_type": "markdown",
   "metadata": {},
   "source": [
    "<!-- print all the row with multitrack_path is NONE -->\n",
    "\n",
    "\n"
   ]
  }
 ],
 "metadata": {
  "kernelspec": {
   "display_name": ".venv",
   "language": "python",
   "name": "python3"
  },
  "language_info": {
   "codemirror_mode": {
    "name": "ipython",
    "version": 3
   },
   "file_extension": ".py",
   "mimetype": "text/x-python",
   "name": "python",
   "nbconvert_exporter": "python",
   "pygments_lexer": "ipython3",
   "version": "3.8.10"
  }
 },
 "nbformat": 4,
 "nbformat_minor": 2
}
