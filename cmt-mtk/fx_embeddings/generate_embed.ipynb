{
 "cells": [
  {
   "cell_type": "code",
   "execution_count": 1,
   "metadata": {},
   "outputs": [
    {
     "name": "stdout",
     "output_type": "stream",
     "text": [
      "Requirement already satisfied: torch in /Users/svanka/miniforge3/envs/scraper/lib/python3.12/site-packages (2.2.1)\n",
      "Requirement already satisfied: torchaudio in /Users/svanka/miniforge3/envs/scraper/lib/python3.12/site-packages (2.2.1)\n",
      "Requirement already satisfied: filelock in /Users/svanka/miniforge3/envs/scraper/lib/python3.12/site-packages (from torch) (3.13.1)\n",
      "Requirement already satisfied: typing-extensions>=4.8.0 in /Users/svanka/miniforge3/envs/scraper/lib/python3.12/site-packages (from torch) (4.10.0)\n",
      "Requirement already satisfied: sympy in /Users/svanka/miniforge3/envs/scraper/lib/python3.12/site-packages (from torch) (1.12)\n",
      "Requirement already satisfied: networkx in /Users/svanka/miniforge3/envs/scraper/lib/python3.12/site-packages (from torch) (3.2.1)\n",
      "Requirement already satisfied: jinja2 in /Users/svanka/miniforge3/envs/scraper/lib/python3.12/site-packages (from torch) (3.1.3)\n",
      "Requirement already satisfied: fsspec in /Users/svanka/miniforge3/envs/scraper/lib/python3.12/site-packages (from torch) (2024.3.1)\n",
      "Requirement already satisfied: MarkupSafe>=2.0 in /Users/svanka/miniforge3/envs/scraper/lib/python3.12/site-packages (from jinja2->torch) (2.1.3)\n",
      "Requirement already satisfied: mpmath>=0.19 in /Users/svanka/miniforge3/envs/scraper/lib/python3.12/site-packages (from sympy->torch) (1.3.0)\n"
     ]
    }
   ],
   "source": [
    "!pip install torch torchaudio"
   ]
  },
  {
   "cell_type": "code",
   "execution_count": 2,
   "metadata": {},
   "outputs": [],
   "source": [
    "import os\n",
    "import torch\n",
    "import glob\n",
    "import torchaudio\n",
    "import torch.nn as nn"
   ]
  },
  {
   "cell_type": "code",
   "execution_count": 3,
   "metadata": {},
   "outputs": [],
   "source": [
    "from network_utils import *"
   ]
  },
  {
   "cell_type": "code",
   "execution_count": 4,
   "metadata": {},
   "outputs": [],
   "source": [
    "#define model\n",
    "# FXencoder that extracts audio effects from music recordings trained with a contrastive objective\n",
    "class FXencoder(nn.Module):\n",
    "    def __init__(self, \n",
    "                channels= [16, 32, 64, 128, 256, 256, 512, 512, 1024, 1024, 2048, 2048],\n",
    "                kernels =  [25, 25, 15, 15, 10, 10, 10, 10, 5, 5, 5, 5],\n",
    "                strides =  [4, 4, 2, 2, 2, 2, 2, 2, 2, 2, 1, 1],\n",
    "                dilation = [1, 1, 1, 1, 1, 1, 1, 1, 1, 1, 1, 1],\n",
    "                bias =  True,\n",
    "                norm = 'batch',\n",
    "                conv_block= 'res',\n",
    "                activation= \"relu\"):\n",
    "        super(FXencoder, self).__init__()\n",
    "        # input is stereo channeled audio\n",
    "        channels.insert(0, 2)\n",
    "\n",
    "        # encoder layers\n",
    "        encoder = []\n",
    "        for i in range(len(kernels)):\n",
    "            if conv_block=='res':\n",
    "                encoder.append(Res_ConvBlock(dimension=1, \\\n",
    "                                                in_channels=channels[i], \\\n",
    "                                                out_channels=channels[i+1], \\\n",
    "                                                kernel_size=kernels[i], \\\n",
    "                                                stride=strides[i], \\\n",
    "                                                padding=\"SAME\", \\\n",
    "                                                dilation=dilation[i], \\\n",
    "                                                norm=norm, \\\n",
    "                                                activation=activation, \\\n",
    "                                                last_activation=activation))\n",
    "            elif conv_block=='conv':\n",
    "                encoder.append(ConvBlock(dimension=1, \\\n",
    "                                            layer_num=1, \\\n",
    "                                            in_channels=channels[i], \\\n",
    "                                            out_channels=channels[i+1], \\\n",
    "                                            kernel_size=kernels[i], \\\n",
    "                                            stride=strides[i], \\\n",
    "                                            padding=\"VALID\", \\\n",
    "                                            dilation=dilation[i], \\\n",
    "                                            norm=norm, \\\n",
    "                                            activation=activation, \\\n",
    "                                            last_activation=activation, \\\n",
    "                                            mode='conv'))\n",
    "        self.encoder = nn.Sequential(*encoder)\n",
    "\n",
    "        # pooling method\n",
    "        self.glob_pool = nn.AdaptiveAvgPool1d(1)\n",
    "\n",
    "    # network forward operation\n",
    "    def forward(self, input):\n",
    "        enc_output = self.encoder(input)\n",
    "        glob_pooled = self.glob_pool(enc_output).squeeze(-1)\n",
    "\n",
    "        # outputs c feature\n",
    "        return glob_pooled"
   ]
  },
  {
   "cell_type": "code",
   "execution_count": 5,
   "metadata": {},
   "outputs": [],
   "source": [
    "checkpoint_path = '/Users/svanka/Codes/cambridge-mt_scrapper/fx_embeddings/FXencoder_ps.pt'\n",
    "\n",
    "def reload_weights(self, ckpt_path, ddp=True):\n",
    "    checkpoint = torch.load(ckpt_path, map_location=self.device)\n",
    "\n",
    "    from collections import OrderedDict\n",
    "    new_state_dict = OrderedDict()\n",
    "    for k, v in checkpoint[\"model\"].items():\n",
    "        # remove `module.` if the model was trained with DDP\n",
    "        name = k[7:] if ddp else k\n",
    "        new_state_dict[name] = v\n",
    "\n",
    "    # load params\n",
    "    FXencoder.load_state_dict(new_state_dict)\n",
    "\n",
    "    print(f\"---reloaded checkpoint weights from {ckpt_path}---\")\n",
    "\n"
   ]
  },
  {
   "cell_type": "code",
   "execution_count": 6,
   "metadata": {},
   "outputs": [
    {
     "ename": "IndentationError",
     "evalue": "unexpected indent (581678629.py, line 15)",
     "output_type": "error",
     "traceback": [
      "\u001b[0;36m  Cell \u001b[0;32mIn[6], line 15\u001b[0;36m\u001b[0m\n\u001b[0;31m    print(f\"---reloaded checkpoint weights : {cur_model_name} ---\")\u001b[0m\n\u001b[0m    ^\u001b[0m\n\u001b[0;31mIndentationError\u001b[0m\u001b[0;31m:\u001b[0m unexpected indent\n"
     ]
    }
   ],
   "source": [
    "#load the checkpoint\n",
    "checkpoint_path = '/Users/svanka/Codes/cambridge-mt_scrapper/fx_embeddings/FXencoder_ps.pt'\n",
    "checkpoint = torch.load(checkpoint_path)\n",
    "model = FXencoder()\n",
    "from collections import OrderedDict\n",
    "new_state_dict = OrderedDict()\n",
    "for k, v in checkpoint[\"model\"].items():\n",
    "    # remove `module.` if the model was trained with DDP\n",
    "    name = k[7:] if ddp else k\n",
    "    new_state_dict[name] = v\n",
    "\n",
    "# load params\n",
    "self.models[cur_model_name].load_state_dict(new_state_dict)\n",
    "\n",
    "    print(f\"---reloaded checkpoint weights : {cur_model_name} ---\")\n",
    "model.load_state_dict(checkpoint['model_state_dict'])\n",
    "model.eval()\n",
    "\n",
    "\n",
    "\n"
   ]
  },
  {
   "cell_type": "code",
   "execution_count": null,
   "metadata": {},
   "outputs": [],
   "source": [
    "#load the audio file\n",
    "audio_path = \"/Users/svanka/Codes/cambridge-mt_scrapper/audio/6(rock_metal)_data\"\n",
    "songs = os.listdir(audio_path)\n",
    "for song in songs:\n",
    "    song_path = os.path.join(audio_path, song)\n",
    "    if os.path.isdir(song_path):\n",
    "        mp3_files = glob.glob(f\"{song_path}/*.mp3\")\n",
    "        for mp3_file in mp3_files:\n",
    "            sound = AudioSegment.from_mp3(mp3_file)\n",
    "            wav_file = os.path.splitext(mp3_file)[0] + \".wav\"\n",
    "            sound.export(wav_file, format=\"wav\")\n",
    "            print(f\"Converted {mp3_file} to {wav_file}\")\n",
    "    break\n",
    "\n"
   ]
  }
 ],
 "metadata": {
  "kernelspec": {
   "display_name": "scraper",
   "language": "python",
   "name": "python3"
  },
  "language_info": {
   "codemirror_mode": {
    "name": "ipython",
    "version": 3
   },
   "file_extension": ".py",
   "mimetype": "text/x-python",
   "name": "python",
   "nbconvert_exporter": "python",
   "pygments_lexer": "ipython3",
   "version": "3.12.2"
  }
 },
 "nbformat": 4,
 "nbformat_minor": 2
}
